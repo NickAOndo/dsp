{
 "cells": [
  {
   "cell_type": "markdown",
   "metadata": {},
   "source": [
    "### Author: Nicholas Ondo\n",
    "\n",
    "### Purpose: Metis Stats Problem Solutions Code\n",
    "\n",
    "License: MIT License: https://opensource.org/licenses/MIT"
   ]
  },
  {
   "cell_type": "markdown",
   "metadata": {},
   "source": [
    "# Checking Basic Functionality of the thinkstats2 module"
   ]
  },
  {
   "cell_type": "code",
   "execution_count": 1,
   "metadata": {},
   "outputs": [],
   "source": [
    "import thinkstats2\n",
    "import numpy as np\n",
    "import pandas as pd\n",
    "import thinkplot\n",
    "\n",
    "from scipy.stats import norm"
   ]
  },
  {
   "cell_type": "code",
   "execution_count": 2,
   "metadata": {},
   "outputs": [
    {
     "data": {
      "text/plain": [
       "(13593, 244)"
      ]
     },
     "execution_count": 2,
     "metadata": {},
     "output_type": "execute_result"
    }
   ],
   "source": [
    "import nsfg\n",
    "\n",
    "df = nsfg.ReadFemPreg()\n",
    "\n",
    "df.shape"
   ]
  },
  {
   "cell_type": "code",
   "execution_count": 3,
   "metadata": {},
   "outputs": [
    {
     "data": {
      "text/html": [
       "<div>\n",
       "<style scoped>\n",
       "    .dataframe tbody tr th:only-of-type {\n",
       "        vertical-align: middle;\n",
       "    }\n",
       "\n",
       "    .dataframe tbody tr th {\n",
       "        vertical-align: top;\n",
       "    }\n",
       "\n",
       "    .dataframe thead th {\n",
       "        text-align: right;\n",
       "    }\n",
       "</style>\n",
       "<table border=\"1\" class=\"dataframe\">\n",
       "  <thead>\n",
       "    <tr style=\"text-align: right;\">\n",
       "      <th></th>\n",
       "      <th>caseid</th>\n",
       "      <th>pregordr</th>\n",
       "      <th>howpreg_n</th>\n",
       "      <th>howpreg_p</th>\n",
       "      <th>moscurrp</th>\n",
       "      <th>nowprgdk</th>\n",
       "      <th>pregend1</th>\n",
       "      <th>pregend2</th>\n",
       "      <th>nbrnaliv</th>\n",
       "      <th>multbrth</th>\n",
       "      <th>...</th>\n",
       "      <th>laborfor_i</th>\n",
       "      <th>religion_i</th>\n",
       "      <th>metro_i</th>\n",
       "      <th>basewgt</th>\n",
       "      <th>adj_mod_basewgt</th>\n",
       "      <th>finalwgt</th>\n",
       "      <th>secu_p</th>\n",
       "      <th>sest</th>\n",
       "      <th>cmintvw</th>\n",
       "      <th>totalwgt_lb</th>\n",
       "    </tr>\n",
       "  </thead>\n",
       "  <tbody>\n",
       "    <tr>\n",
       "      <th>0</th>\n",
       "      <td>1</td>\n",
       "      <td>1</td>\n",
       "      <td>NaN</td>\n",
       "      <td>NaN</td>\n",
       "      <td>NaN</td>\n",
       "      <td>NaN</td>\n",
       "      <td>6.0</td>\n",
       "      <td>NaN</td>\n",
       "      <td>1.0</td>\n",
       "      <td>NaN</td>\n",
       "      <td>...</td>\n",
       "      <td>0</td>\n",
       "      <td>0</td>\n",
       "      <td>0</td>\n",
       "      <td>3410.389399</td>\n",
       "      <td>3869.349602</td>\n",
       "      <td>6448.271112</td>\n",
       "      <td>2</td>\n",
       "      <td>9</td>\n",
       "      <td>NaN</td>\n",
       "      <td>8.8125</td>\n",
       "    </tr>\n",
       "    <tr>\n",
       "      <th>1</th>\n",
       "      <td>1</td>\n",
       "      <td>2</td>\n",
       "      <td>NaN</td>\n",
       "      <td>NaN</td>\n",
       "      <td>NaN</td>\n",
       "      <td>NaN</td>\n",
       "      <td>6.0</td>\n",
       "      <td>NaN</td>\n",
       "      <td>1.0</td>\n",
       "      <td>NaN</td>\n",
       "      <td>...</td>\n",
       "      <td>0</td>\n",
       "      <td>0</td>\n",
       "      <td>0</td>\n",
       "      <td>3410.389399</td>\n",
       "      <td>3869.349602</td>\n",
       "      <td>6448.271112</td>\n",
       "      <td>2</td>\n",
       "      <td>9</td>\n",
       "      <td>NaN</td>\n",
       "      <td>7.8750</td>\n",
       "    </tr>\n",
       "    <tr>\n",
       "      <th>2</th>\n",
       "      <td>2</td>\n",
       "      <td>1</td>\n",
       "      <td>NaN</td>\n",
       "      <td>NaN</td>\n",
       "      <td>NaN</td>\n",
       "      <td>NaN</td>\n",
       "      <td>5.0</td>\n",
       "      <td>NaN</td>\n",
       "      <td>3.0</td>\n",
       "      <td>5.0</td>\n",
       "      <td>...</td>\n",
       "      <td>0</td>\n",
       "      <td>0</td>\n",
       "      <td>0</td>\n",
       "      <td>7226.301740</td>\n",
       "      <td>8567.549110</td>\n",
       "      <td>12999.542264</td>\n",
       "      <td>2</td>\n",
       "      <td>12</td>\n",
       "      <td>NaN</td>\n",
       "      <td>9.1250</td>\n",
       "    </tr>\n",
       "    <tr>\n",
       "      <th>3</th>\n",
       "      <td>2</td>\n",
       "      <td>2</td>\n",
       "      <td>NaN</td>\n",
       "      <td>NaN</td>\n",
       "      <td>NaN</td>\n",
       "      <td>NaN</td>\n",
       "      <td>6.0</td>\n",
       "      <td>NaN</td>\n",
       "      <td>1.0</td>\n",
       "      <td>NaN</td>\n",
       "      <td>...</td>\n",
       "      <td>0</td>\n",
       "      <td>0</td>\n",
       "      <td>0</td>\n",
       "      <td>7226.301740</td>\n",
       "      <td>8567.549110</td>\n",
       "      <td>12999.542264</td>\n",
       "      <td>2</td>\n",
       "      <td>12</td>\n",
       "      <td>NaN</td>\n",
       "      <td>7.0000</td>\n",
       "    </tr>\n",
       "    <tr>\n",
       "      <th>4</th>\n",
       "      <td>2</td>\n",
       "      <td>3</td>\n",
       "      <td>NaN</td>\n",
       "      <td>NaN</td>\n",
       "      <td>NaN</td>\n",
       "      <td>NaN</td>\n",
       "      <td>6.0</td>\n",
       "      <td>NaN</td>\n",
       "      <td>1.0</td>\n",
       "      <td>NaN</td>\n",
       "      <td>...</td>\n",
       "      <td>0</td>\n",
       "      <td>0</td>\n",
       "      <td>0</td>\n",
       "      <td>7226.301740</td>\n",
       "      <td>8567.549110</td>\n",
       "      <td>12999.542264</td>\n",
       "      <td>2</td>\n",
       "      <td>12</td>\n",
       "      <td>NaN</td>\n",
       "      <td>6.1875</td>\n",
       "    </tr>\n",
       "  </tbody>\n",
       "</table>\n",
       "<p>5 rows × 244 columns</p>\n",
       "</div>"
      ],
      "text/plain": [
       "   caseid  pregordr  howpreg_n  howpreg_p  moscurrp  nowprgdk  pregend1  \\\n",
       "0       1         1        NaN        NaN       NaN       NaN       6.0   \n",
       "1       1         2        NaN        NaN       NaN       NaN       6.0   \n",
       "2       2         1        NaN        NaN       NaN       NaN       5.0   \n",
       "3       2         2        NaN        NaN       NaN       NaN       6.0   \n",
       "4       2         3        NaN        NaN       NaN       NaN       6.0   \n",
       "\n",
       "   pregend2  nbrnaliv  multbrth     ...       laborfor_i  religion_i  metro_i  \\\n",
       "0       NaN       1.0       NaN     ...                0           0        0   \n",
       "1       NaN       1.0       NaN     ...                0           0        0   \n",
       "2       NaN       3.0       5.0     ...                0           0        0   \n",
       "3       NaN       1.0       NaN     ...                0           0        0   \n",
       "4       NaN       1.0       NaN     ...                0           0        0   \n",
       "\n",
       "       basewgt  adj_mod_basewgt      finalwgt  secu_p  sest  cmintvw  \\\n",
       "0  3410.389399      3869.349602   6448.271112       2     9      NaN   \n",
       "1  3410.389399      3869.349602   6448.271112       2     9      NaN   \n",
       "2  7226.301740      8567.549110  12999.542264       2    12      NaN   \n",
       "3  7226.301740      8567.549110  12999.542264       2    12      NaN   \n",
       "4  7226.301740      8567.549110  12999.542264       2    12      NaN   \n",
       "\n",
       "   totalwgt_lb  \n",
       "0       8.8125  \n",
       "1       7.8750  \n",
       "2       9.1250  \n",
       "3       7.0000  \n",
       "4       6.1875  \n",
       "\n",
       "[5 rows x 244 columns]"
      ]
     },
     "execution_count": 3,
     "metadata": {},
     "output_type": "execute_result"
    }
   ],
   "source": [
    "df.head()"
   ]
  },
  {
   "cell_type": "code",
   "execution_count": 4,
   "metadata": {},
   "outputs": [],
   "source": [
    "# Get a list of all of the cols for reference\n",
    "\n",
    "#with open(\"__full_cols.txt\", \"w\") as f:\n",
    "#    for col in df.columns:\n",
    "#        f.write(f\"{col} \\n\")"
   ]
  },
  {
   "cell_type": "markdown",
   "metadata": {},
   "source": [
    "---\n",
    "\n",
    "# Q1: ThinkStats2 Problem 2.4"
   ]
  },
  {
   "cell_type": "code",
   "execution_count": 5,
   "metadata": {},
   "outputs": [],
   "source": [
    "def cohen_d(sample1, sample2):\n",
    "    diff = sample1.mean() - sample2.mean()\n",
    "    \n",
    "    var1, var2 = sample1.var(), sample2.var()\n",
    "    n1, n2 = len(sample1), len(sample2)\n",
    "    tot_var = (n1*var1 + n2*var2) / (n1 + n2)\n",
    "    \n",
    "    return diff / np.sqrt(tot_var)\n",
    "\n",
    "## Run a few unit tests on the Cohen's d\n",
    "# test1 = pd.DataFrame({\"weight\": np.random.normal(5, 1, 10000)})\n",
    "# test2 = pd.DataFrame({\"weight\": np.random.normal(-5, 1, 10000)})\n",
    "#\n",
    "# cohen_d(test1, test2) # should be about 10 +/- .2"
   ]
  },
  {
   "cell_type": "markdown",
   "metadata": {},
   "source": [
    "### Answer to Q1:"
   ]
  },
  {
   "cell_type": "code",
   "execution_count": 6,
   "metadata": {},
   "outputs": [
    {
     "data": {
      "text/plain": [
       "-0.088672927072602"
      ]
     },
     "execution_count": 6,
     "metadata": {},
     "output_type": "execute_result"
    }
   ],
   "source": [
    "# Take live births\n",
    "df2 = df[df.outcome == 1]\n",
    "\n",
    "first_weight = df2[df2.birthord == 1].totalwgt_lb\n",
    "later_weight = df2[df2.birthord > 1].totalwgt_lb\n",
    "\n",
    "cohen_d(first_weight, later_weight)"
   ]
  },
  {
   "cell_type": "markdown",
   "metadata": {},
   "source": [
    "---\n",
    "\n",
    "# Q2: ThinkStats2 Problem 3.1"
   ]
  },
  {
   "cell_type": "code",
   "execution_count": 7,
   "metadata": {},
   "outputs": [],
   "source": [
    "# Grab the respondent variables\n",
    "df3 = nsfg.ReadFemResp()\n",
    "\n",
    "# Get columns for reference: OVER A THOUSAND!\n",
    "# with open(\"__full_respondent_cols.txt\", \"w\") as f:\n",
    "#    for col in df3.columns:\n",
    "#        f.write(f\"{col}\\n\")"
   ]
  },
  {
   "cell_type": "code",
   "execution_count": 8,
   "metadata": {},
   "outputs": [],
   "source": [
    "def get_pmfs(df, val=\"numkdhh\"):\n",
    "    \"\"\"Given a DataFrame and a column name, returns the PMF and biased PMF.\"\"\"\n",
    "    \n",
    "    pmf = thinkstats2.Pmf(df[val], label=val)\n",
    "    biased_pmf = pmf.Copy(label=f\"{val}_biased\")\n",
    "\n",
    "    for x, _ in pmf.Items():\n",
    "        biased_pmf.Mult(x, x)\n",
    "    \n",
    "    biased_pmf.Normalize()\n",
    "    \n",
    "    return pmf, biased_pmf"
   ]
  },
  {
   "cell_type": "code",
   "execution_count": 9,
   "metadata": {},
   "outputs": [],
   "source": [
    "# Read in my unbiased and biased pmf's for then number of children per household\n",
    "\n",
    "pmf_fam, pmf_bias_fam = get_pmfs(df3)"
   ]
  },
  {
   "cell_type": "markdown",
   "metadata": {},
   "source": [
    "### Answers to Q2:"
   ]
  },
  {
   "cell_type": "code",
   "execution_count": 10,
   "metadata": {},
   "outputs": [
    {
     "data": {
      "image/png": "[encoded data removed]",
      "text/plain": [
       "<Figure size 432x288 with 1 Axes>"
      ]
     },
     "metadata": {},
     "output_type": "display_data"
    }
   ],
   "source": [
    "thinkplot.Hist(pmf_fam)\n",
    "thinkplot.Config(xlabel='Number of Family Members', ylabel='PMF')"
   ]
  },
  {
   "cell_type": "code",
   "execution_count": 11,
   "metadata": {},
   "outputs": [
    {
     "data": {
      "image/png": "[encoded data removed]",
      "text/plain": [
       "<Figure size 432x288 with 1 Axes>"
      ]
     },
     "metadata": {},
     "output_type": "display_data"
    }
   ],
   "source": [
    "thinkplot.Hist(pmf_bias_fam)\n",
    "thinkplot.Config(xlabel='Biased Number of Family Members', ylabel='Biased PMF')"
   ]
  },
  {
   "cell_type": "code",
   "execution_count": 12,
   "metadata": {},
   "outputs": [
    {
     "name": "stdout",
     "output_type": "stream",
     "text": [
      "The unbiased mean is  1.024205155043831\n"
     ]
    }
   ],
   "source": [
    "print(\"The unbiased mean is \", pmf_fam.Mean())"
   ]
  },
  {
   "cell_type": "code",
   "execution_count": 13,
   "metadata": {},
   "outputs": [
    {
     "name": "stdout",
     "output_type": "stream",
     "text": [
      "The biased mean is  2.403679100664282\n"
     ]
    }
   ],
   "source": [
    "print(\"The biased mean is \", pmf_bias_fam.Mean())"
   ]
  },
  {
   "cell_type": "markdown",
   "metadata": {},
   "source": [
    "---\n",
    "# Q3: ThinkStats2 Problem 4.2"
   ]
  },
  {
   "cell_type": "code",
   "execution_count": 14,
   "metadata": {},
   "outputs": [
    {
     "name": "stdout",
     "output_type": "stream",
     "text": [
      "Number data:  1000\n"
     ]
    },
    {
     "data": {
      "text/plain": [
       "0    0.919313\n",
       "1    0.239228\n",
       "2    0.765541\n",
       "3    0.793434\n",
       "4    0.819763\n",
       "dtype: float64"
      ]
     },
     "execution_count": 14,
     "metadata": {},
     "output_type": "execute_result"
    }
   ],
   "source": [
    "unif_data = pd.Series(np.random.random(size=1000))\n",
    "\n",
    "print(\"Number data: \", len(unif_data))\n",
    "\n",
    "unif_data.head()"
   ]
  },
  {
   "cell_type": "code",
   "execution_count": 15,
   "metadata": {},
   "outputs": [],
   "source": [
    "width = .0005 # Have 1000 samples, need a scale of ~1/2000 by Nyquist\n",
    "\n",
    "unif_pmf = thinkstats2.Pmf(unif_data, label=\"Uniform(0,1)\")\n",
    "unif_cdf = thinkstats2.Cdf(unif_data, label=\"Uniform(0,1) CDF\")"
   ]
  },
  {
   "cell_type": "markdown",
   "metadata": {},
   "source": [
    "### Answer to Q3"
   ]
  },
  {
   "cell_type": "code",
   "execution_count": 16,
   "metadata": {},
   "outputs": [
    {
     "data": {
      "image/png": "[encoded data removed]",
      "text/plain": [
       "<Figure size 432x288 with 1 Axes>"
      ]
     },
     "metadata": {},
     "output_type": "display_data"
    }
   ],
   "source": [
    "# Plot PMF\n",
    "thinkplot.Hist(unif_pmf, width=width)\n",
    "thinkplot.Config(xlabel=\"Sample value drawn from Uniform(0,1)\",\n",
    "                 ylabel=\"PMF of Uniform(0,1)\")"
   ]
  },
  {
   "cell_type": "code",
   "execution_count": 17,
   "metadata": {},
   "outputs": [
    {
     "data": {
      "image/png": "[encoded data removed]",
      "text/plain": [
       "<Figure size 432x288 with 1 Axes>"
      ]
     },
     "metadata": {},
     "output_type": "display_data"
    }
   ],
   "source": [
    "# Plot the CDF\n",
    "thinkplot.Cdf(unif_cdf)\n",
    "thinkplot.Config(xlabel=\"Sample value drawn from Uniform(0,1)\", ylabel=\"CDF\", loc=\"upper left\")"
   ]
  },
  {
   "cell_type": "markdown",
   "metadata": {},
   "source": [
    "Yes, I would say that it is quite linear.  We could perform a linear regression analysis to see and quantify how close to a \"y = x\" this is, but by sight it has the right behavior."
   ]
  },
  {
   "cell_type": "markdown",
   "metadata": {},
   "source": [
    "---\n",
    "# Q4: ThinkStats2 5.1\n",
    "\n",
    "\"In the BRFSS (see Section 5.4), the distribution of heights is\n",
    "roughly normal with parameters μ = 178 cm and σ = 7.7 cm for men, and\n",
    "μ = 163 cm and σ = 7.3 cm for women. \\[...\\] In order to join Blue Man Group, you have to be male between 5’10” and\n",
    "6’1” (see http://bluemancasting.com). What percentage of the U.S. male\n",
    "population is in this range?\"\n",
    "\n",
    "### Answer to Q4"
   ]
  },
  {
   "cell_type": "code",
   "execution_count": 18,
   "metadata": {},
   "outputs": [],
   "source": [
    "# Conversions to feet:\n",
    "cm2in = 0.393701\n",
    "in2ft = 1.0 / 12\n",
    "\n",
    "# Normal distribution values:\n",
    "μ_men = 178 * cm2in * in2ft\n",
    "σ_men = 7.7 * cm2in * in2ft"
   ]
  },
  {
   "cell_type": "code",
   "execution_count": 19,
   "metadata": {},
   "outputs": [
    {
     "name": "stdout",
     "output_type": "stream",
     "text": [
      "34.27% of men can apply to the Blue Man Group.\n"
     ]
    }
   ],
   "source": [
    "# Make CDF values:\n",
    "cdf_short, cdf_tall = norm.cdf(\n",
    "    [5 + 10/12, 6 + 1/12],\n",
    "    μ_men, σ_men)\n",
    "\n",
    "print(f\"{(cdf_tall - cdf_short)*100 :.4}% of men can apply to the Blue Man Group.\")"
   ]
  },
  {
   "cell_type": "markdown",
   "metadata": {},
   "source": [
    "---\n",
    "# Question 5: Bayes Theorem\n",
    "\n",
    "Bayes' Theorem is an important tool in understanding what we really know, given evidence of other information we have, in a quantitative way.  It helps incorporate conditional probabilities into our conclusions.\n",
    "\n",
    "Elvis Presley had a twin brother who died at birth.  What is the probability that Elvis was an identical twin? Assume we observe the following probabilities in the population: fraternal twin is 1/125 and identical twin is 1/300.  "
   ]
  },
  {
   "cell_type": "code",
   "execution_count": 20,
   "metadata": {},
   "outputs": [
    {
     "name": "stdout",
     "output_type": "stream",
     "text": [
      "\n",
      "Elvis has a 45.45% chance of being an identical twin,\n",
      "given it is already known that he is a twin.\n"
     ]
    }
   ],
   "source": [
    "prob_being_twin_male = 1/125*1/4 + 1/300*1/2\n",
    "prob_being_idtwin_male = 1/300*1/2\n",
    "\n",
    "prob_id = prob_being_idtwin_male / prob_being_twin_male\n",
    "\n",
    "print(f\"\"\"\n",
    "Elvis has a {prob_id*100 :.4}% chance of being an identical twin,\n",
    "given it is already known that he is a twin.\"\"\")"
   ]
  },
  {
   "cell_type": "markdown",
   "metadata": {},
   "source": [
    "\n",
    "N.B. Here I have used Bayes theorem: $\\text{P}(A \\text{ given } B) = \\frac{\\text{P}(A \\text{ and } B)}{\\text{P}(B)}$, where $A =$ \"Person is an identical twin\" and $B =$ \"Person is a twin.\", and we are after P(\"Elvis is an identical twin\", given \"He is a twin\").  Note that P(\"is an identical twin\" and \"is a twin\") = P(\"is an identical twin\")."
   ]
  },
  {
   "cell_type": "markdown",
   "metadata": {},
   "source": [
    "---\n",
    "# Q6: \n",
    "How do frequentist and Bayesian statistics compare?"
   ]
  },
  {
   "cell_type": "markdown",
   "metadata": {},
   "source": [
    "### Answer to Q6:\n",
    "\n",
    "Frequentist statistics are centered around the idea of the frequency with which a given outcome will happen among the set of existing possible outcomes, and tends to use MLE estimators for quantities.  Bayesian statistics are centered around the idea of updating the probability of an outcome given an old estimate (the prior) and the existence of new data relevant to the underlying distribution of the outcomes.  They are two distinct, parallel ways of viewing statistical inference."
   ]
  },
  {
   "cell_type": "markdown",
   "metadata": {},
   "source": [
    "---\n",
    "# N.B. Begin Optional Questions\n",
    "\n",
    "---\n",
    "\n",
    "# Question 6.1"
   ]
  },
  {
   "cell_type": "code",
   "execution_count": null,
   "metadata": {},
   "outputs": [],
   "source": []
  }
 ],
 "metadata": {
  "kernelspec": {
   "display_name": "Python 3",
   "language": "python",
   "name": "python3"
  },
  "language_info": {
   "codemirror_mode": {
    "name": "ipython",
    "version": 3
   },
   "file_extension": ".py",
   "mimetype": "text/x-python",
   "name": "python",
   "nbconvert_exporter": "python",
   "pygments_lexer": "ipython3",
   "version": "3.6.5"
  }
 },
 "nbformat": 4,
 "nbformat_minor": 2
}
